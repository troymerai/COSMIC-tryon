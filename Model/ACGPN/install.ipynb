{
 "cells": [
  {
   "cell_type": "code",
   "execution_count": null,
   "metadata": {},
   "outputs": [],
   "source": [
    "import numpy as np\n",
    "from PIL import Image\n",
    "import IPython\n",
    "import os\n",
    "import sys\n",
    "import time\n",
    "import gdown"
   ]
  },
  {
   "cell_type": "markdown",
   "metadata": {},
   "source": [
    "## INSTALL"
   ]
  },
  {
   "cell_type": "code",
   "execution_count": null,
   "metadata": {},
   "outputs": [],
   "source": [
    "!mkdir ACGPN\n",
    "%cd ACGPN\n",
    "!mkdir Data_preprocessing\n",
    "!mkdir Data_preprocessing/test_color\n",
    "!mkdir Data_preprocessing/test_edge\n",
    "!mkdir Data_preprocessing/test_img\n",
    "!mkdir inputs\n",
    "!mkdir inputs/img\n",
    "!mkdir inputs/cloth\n",
    "\n",
    "%cd ..\n",
    "\n",
    "#옷 마스킹 모델 파일 다운로드\n",
    "!git clone https://github.com/levindabhi/U-2-Net.git\n",
    "\n",
    "#U-2-Net 모델을 돌릴 때 필요한 파일 준비를 위해 해당 모델 폴더로 이동\n",
    "%cd U-2-Net\n",
    "\n",
    "#U-2-Net 모델에 필요한 폴더 생성\n",
    "!mkdir saved_models\n",
    "!mkdir saved_models/u2net\n",
    "!mkdir saved_models/u2netp\n",
    "\n",
    "\n",
    "#사전 학습된 U-2-Net 모델 다운로드\n",
    "!gdown 1rbSTGKAE-MTxBYHd-51l2hMOQPT_7EPy -O saved_models/u2netp/u2netp.pth\n",
    "!gdown 1ao1ovG1Qtx4b7EoskHXmi2E9rp5CHLcZ -O saved_models/u2net/u2net.pth\n",
    "\n",
    "%cd ..\n",
    "\n",
    "# Flow-style-vton 설치\n",
    "!git clone https://github.com/SenHe/Flow-Style-VTON.git\n",
    "\n",
    "%cd Flow-Style-VTON\n",
    "\n",
    "%cd test\n",
    "!mkdir flow-style-vton-data\n",
    "!mkdir flow-style-vton-data/test_clothes\n",
    "!mkdir flow-style-vton-data/test_edge\n",
    "!mkdir flow-style-vton-data/test_img\n",
    "%cd ..\n",
    "\n",
    "!mkdir saved_model\n",
    "!gdown 1pYrLujkd2gmQGqtnROCzSSnVwbMh9DnP -O saved_model/model.zip\n",
    "%cd saved_model\n",
    "!unzip model.zip\n",
    "\n",
    "%cd ..\n",
    "\n",
    "\n",
    "%cd ..\n",
    "\n",
    "# Clone Real-ESRGAN and enter the Real-ESRGAN\n",
    "!git clone https://github.com/xinntao/Real-ESRGAN.git\n",
    "%cd Real-ESRGAN\n",
    "# Set up the environment\n",
    "!pip install basicsr\n",
    "!pip install facexlib\n",
    "!pip install gfpgan\n",
    "!pip install -r requirements.txt\n",
    "!python setup.py develop\n",
    "\n",
    "import shutil\n",
    "\n",
    "upload_folder = 'upload'\n",
    "result_folder = 'results'\n",
    "\n",
    "if os.path.isdir(upload_folder):\n",
    "    shutil.rmtree(upload_folder)\n",
    "if os.path.isdir(result_folder):\n",
    "    shutil.rmtree(result_folder)\n",
    "os.mkdir(upload_folder)\n",
    "os.mkdir(result_folder)\n",
    "\n",
    "%cd .."
   ]
  },
  {
   "cell_type": "markdown",
   "metadata": {},
   "source": [
    "## U-2Net"
   ]
  },
  {
   "cell_type": "code",
   "execution_count": null,
   "metadata": {},
   "outputs": [],
   "source": [
    "%cd U-2-Net\n",
    "\n",
    "import u2net_load\n",
    "import u2net_run\n",
    "\n",
    "u2net = u2net_load.model(model_name='u2netp')\n",
    "\n",
    "%cd .."
   ]
  },
  {
   "cell_type": "markdown",
   "metadata": {},
   "source": [
    "## 중간 작업"
   ]
  },
  {
   "cell_type": "code",
   "execution_count": null,
   "metadata": {},
   "outputs": [],
   "source": [
    "#ACGPN 폴더에서 시작해야함\n",
    "%cd ACGPN\n",
    "\n",
    "#옷 데이터셋이 올바른 위치에 있는지 확인\n",
    "sorted(os.listdir('inputs/cloth'))\n",
    "\n",
    "#전처리 할 옷 데이터 이름을 시간으로 지정\n",
    "cloth_name = f'cloth_{int(time.time())}.png'\n",
    "\n",
    "#전처리 할 옷 데이터의 파일 위치 확인\n",
    "cloth_path = os.path.join('inputs/cloth', sorted(os.listdir('inputs/cloth'))[0])\n",
    "\n",
    "#이미지 할당\n",
    "cloth = Image.open(cloth_path)\n",
    "\n",
    "#이미지 사이즈 조절 및 RGB모드로 변환\n",
    "cloth = cloth.resize((192, 256), Image.BICUBIC).convert('RGB')\n",
    "\n",
    "cloth.save(os.path.join('Data_preprocessing/test_color', cloth_name)) # 원본 옷 Resizing 된 데이터 넣음\n",
    "\n",
    "u2net_run.infer(u2net, 'Data_preprocessing/test_color', 'Data_preprocessing/test_edge') # test_edge에 옷 segmentation 데이터 넣음\n",
    "\n",
    "sorted(os.listdir('inputs/img'))\n",
    "\n",
    "img_name = f'img_{int(time.time())}.png'\n",
    "\n",
    "img_path = os.path.join('inputs/img', sorted(os.listdir('inputs/img'))[0])\n",
    "\n",
    "img = Image.open(img_path)\n",
    "\n",
    "img = img.resize((192,256), Image.BICUBIC)\n",
    "\n",
    "img_path = os.path.join('Data_preprocessing/test_img', img_name)\n",
    "\n",
    "img.save(img_path)\n",
    "\n",
    "%cd .."
   ]
  },
  {
   "cell_type": "code",
   "execution_count": null,
   "metadata": {},
   "outputs": [],
   "source": [
    "# 데이터 이동 필요\n",
    "\n",
    "# ACGPN/Data_preprocessing/test_color -> Flow-Style-VTON/test/flow-style-vton-data/test_clothes (옷)\n",
    "# ACGPN/Data_preprocessing/test_edge -> Flow-Style-VTON/test/flow-style-vton-data/test_edge(옷 segmentation)\n",
    "# ACGPN/Data_preprocessing/test_img -> Flow-Style-VTON/test/flow-style-vton-data/test_img(사람)"
   ]
  },
  {
   "cell_type": "markdown",
   "metadata": {},
   "source": [
    "## Flow-Style-VTON"
   ]
  },
  {
   "cell_type": "code",
   "execution_count": null,
   "metadata": {},
   "outputs": [],
   "source": [
    "# Flow-Style-VTON/test/data/aligned_dataset_test.py 파일 수정 필요"
   ]
  },
  {
   "cell_type": "code",
   "execution_count": null,
   "metadata": {},
   "outputs": [],
   "source": [
    "%cd Flow-Style-VTON\n",
    "%cd test\n",
    "\n",
    "!python test.py --name demo --resize_or_crop None --batchSize 1 --gpu_ids 1 --warp_checkpoint ../saved_model/ckp/non_aug/PFAFN_warp_epoch_101.pth --gen_checkpoint ../saved_model/ckp/non_aug/PFAFN_gen_epoch_101.pth --dataroot ./flow-style-vton-data"
   ]
  },
  {
   "cell_type": "markdown",
   "metadata": {},
   "source": [
    "## Real-ESRGAN"
   ]
  },
  {
   "cell_type": "code",
   "execution_count": null,
   "metadata": {},
   "outputs": [],
   "source": [
    "from pathlib import Path\n",
    "\n",
    "CURRENT_DIR = Path()\n",
    "q = CURRENT_DIR / 'Real-ESRGAN' / 'upload'\n",
    "#d = CURRENT_DIR / 'ACGPN' / 'results' / 'test' / 'try-on' / f\"{img_name}\"\n",
    "\n",
    "\n",
    "!pwd"
   ]
  }
 ],
 "metadata": {
  "language_info": {
   "name": "python"
  },
  "orig_nbformat": 4
 },
 "nbformat": 4,
 "nbformat_minor": 2
}
